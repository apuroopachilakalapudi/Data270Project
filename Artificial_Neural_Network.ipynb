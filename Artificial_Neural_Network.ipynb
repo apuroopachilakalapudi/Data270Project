{
  "cells": [
    {
      "cell_type": "code",
      "execution_count": null,
      "metadata": {
        "id": "uqUOcva2Bt0W"
      },
      "outputs": [],
      "source": [
        "#Importing necessary Libraries\n",
        "import numpy as np\n",
        "import pandas as pd\n",
        "import tensorflow as tf\n",
        "from sklearn import metrics\n",
        "from sklearn.metrics import precision_score, f1_score, recall_score, roc_curve, auc\n",
        "import matplotlib.pyplot as plt\n",
        "from keras.optimizers import Adam\n",
        "from keras.wrappers.scikit_learn import KerasClassifier\n",
        "from keras.models import Sequential\n",
        "from keras.layers import Dense\n",
        "from sklearn.model_selection import GridSearchCV\n",
        "from sklearn.metrics import classification_report\n",
        "import numpy as np\n",
        "from sklearn.metrics import classification_report, roc_auc_score\n",
        "from tensorflow import keras"
      ]
    },
    {
      "cell_type": "code",
      "execution_count": null,
      "metadata": {
        "colab": {
          "base_uri": "https://localhost:8080/"
        },
        "id": "hvIc2_aFB3zA",
        "outputId": "def24e2c-ee12-4c56-e116-b4633610977a"
      },
      "outputs": [
        {
          "output_type": "stream",
          "name": "stdout",
          "text": [
            "Mounted at /content/drive\n",
            "/content/drive/My Drive\n"
          ]
        }
      ],
      "source": [
        "from google.colab import drive\n",
        "drive.mount('/content/drive')\n",
        "%cd /content/drive/My\\ Drive"
      ]
    },
    {
      "cell_type": "code",
      "execution_count": null,
      "metadata": {
        "colab": {
          "base_uri": "https://localhost:8080/",
          "height": 241
        },
        "id": "wDNxQoF8CvCp",
        "outputId": "f3908183-1401-4737-e730-33f7bbd60e3d"
      },
      "outputs": [
        {
          "output_type": "stream",
          "name": "stderr",
          "text": [
            "<ipython-input-3-39c5e456dd27>:2: DtypeWarning: Columns (0,1,3,4,5,6) have mixed types. Specify dtype option on import or set low_memory=False.\n",
            "  data = pd.read_csv(\"train_flooding_data.csv\",header=None, names=['Label','Time','ID','Signal_1','Signal_2','Signal_3','Signal_4'])\n"
          ]
        },
        {
          "output_type": "execute_result",
          "data": {
            "text/plain": [
              "   Label           Time   ID            Signal_1       Signal_2  \\\n",
              "0  Label           Time   ID       Signal1_of_ID  Signal2_of_ID   \n",
              "1      0  81008449.4467  id3                 0.2            1.0   \n",
              "2      0  81008456.7515  id9   0.370002961208173            NaN   \n",
              "3      0  81008458.2074  id7  0.0441385209497538            0.0   \n",
              "4      0  81008459.2775  id8   0.170533835773697            NaN   \n",
              "\n",
              "        Signal_3       Signal_4  \n",
              "0  Signal3_of_ID  Signal4_of_ID  \n",
              "1            NaN            NaN  \n",
              "2            NaN            NaN  \n",
              "3            NaN            NaN  \n",
              "4            NaN            NaN  "
            ],
            "text/html": [
              "\n",
              "  <div id=\"df-c0876012-2687-43c2-8048-aada3b64dbbf\">\n",
              "    <div class=\"colab-df-container\">\n",
              "      <div>\n",
              "<style scoped>\n",
              "    .dataframe tbody tr th:only-of-type {\n",
              "        vertical-align: middle;\n",
              "    }\n",
              "\n",
              "    .dataframe tbody tr th {\n",
              "        vertical-align: top;\n",
              "    }\n",
              "\n",
              "    .dataframe thead th {\n",
              "        text-align: right;\n",
              "    }\n",
              "</style>\n",
              "<table border=\"1\" class=\"dataframe\">\n",
              "  <thead>\n",
              "    <tr style=\"text-align: right;\">\n",
              "      <th></th>\n",
              "      <th>Label</th>\n",
              "      <th>Time</th>\n",
              "      <th>ID</th>\n",
              "      <th>Signal_1</th>\n",
              "      <th>Signal_2</th>\n",
              "      <th>Signal_3</th>\n",
              "      <th>Signal_4</th>\n",
              "    </tr>\n",
              "  </thead>\n",
              "  <tbody>\n",
              "    <tr>\n",
              "      <th>0</th>\n",
              "      <td>Label</td>\n",
              "      <td>Time</td>\n",
              "      <td>ID</td>\n",
              "      <td>Signal1_of_ID</td>\n",
              "      <td>Signal2_of_ID</td>\n",
              "      <td>Signal3_of_ID</td>\n",
              "      <td>Signal4_of_ID</td>\n",
              "    </tr>\n",
              "    <tr>\n",
              "      <th>1</th>\n",
              "      <td>0</td>\n",
              "      <td>81008449.4467</td>\n",
              "      <td>id3</td>\n",
              "      <td>0.2</td>\n",
              "      <td>1.0</td>\n",
              "      <td>NaN</td>\n",
              "      <td>NaN</td>\n",
              "    </tr>\n",
              "    <tr>\n",
              "      <th>2</th>\n",
              "      <td>0</td>\n",
              "      <td>81008456.7515</td>\n",
              "      <td>id9</td>\n",
              "      <td>0.370002961208173</td>\n",
              "      <td>NaN</td>\n",
              "      <td>NaN</td>\n",
              "      <td>NaN</td>\n",
              "    </tr>\n",
              "    <tr>\n",
              "      <th>3</th>\n",
              "      <td>0</td>\n",
              "      <td>81008458.2074</td>\n",
              "      <td>id7</td>\n",
              "      <td>0.0441385209497538</td>\n",
              "      <td>0.0</td>\n",
              "      <td>NaN</td>\n",
              "      <td>NaN</td>\n",
              "    </tr>\n",
              "    <tr>\n",
              "      <th>4</th>\n",
              "      <td>0</td>\n",
              "      <td>81008459.2775</td>\n",
              "      <td>id8</td>\n",
              "      <td>0.170533835773697</td>\n",
              "      <td>NaN</td>\n",
              "      <td>NaN</td>\n",
              "      <td>NaN</td>\n",
              "    </tr>\n",
              "  </tbody>\n",
              "</table>\n",
              "</div>\n",
              "      <button class=\"colab-df-convert\" onclick=\"convertToInteractive('df-c0876012-2687-43c2-8048-aada3b64dbbf')\"\n",
              "              title=\"Convert this dataframe to an interactive table.\"\n",
              "              style=\"display:none;\">\n",
              "        \n",
              "  <svg xmlns=\"http://www.w3.org/2000/svg\" height=\"24px\"viewBox=\"0 0 24 24\"\n",
              "       width=\"24px\">\n",
              "    <path d=\"M0 0h24v24H0V0z\" fill=\"none\"/>\n",
              "    <path d=\"M18.56 5.44l.94 2.06.94-2.06 2.06-.94-2.06-.94-.94-2.06-.94 2.06-2.06.94zm-11 1L8.5 8.5l.94-2.06 2.06-.94-2.06-.94L8.5 2.5l-.94 2.06-2.06.94zm10 10l.94 2.06.94-2.06 2.06-.94-2.06-.94-.94-2.06-.94 2.06-2.06.94z\"/><path d=\"M17.41 7.96l-1.37-1.37c-.4-.4-.92-.59-1.43-.59-.52 0-1.04.2-1.43.59L10.3 9.45l-7.72 7.72c-.78.78-.78 2.05 0 2.83L4 21.41c.39.39.9.59 1.41.59.51 0 1.02-.2 1.41-.59l7.78-7.78 2.81-2.81c.8-.78.8-2.07 0-2.86zM5.41 20L4 18.59l7.72-7.72 1.47 1.35L5.41 20z\"/>\n",
              "  </svg>\n",
              "      </button>\n",
              "      \n",
              "  <style>\n",
              "    .colab-df-container {\n",
              "      display:flex;\n",
              "      flex-wrap:wrap;\n",
              "      gap: 12px;\n",
              "    }\n",
              "\n",
              "    .colab-df-convert {\n",
              "      background-color: #E8F0FE;\n",
              "      border: none;\n",
              "      border-radius: 50%;\n",
              "      cursor: pointer;\n",
              "      display: none;\n",
              "      fill: #1967D2;\n",
              "      height: 32px;\n",
              "      padding: 0 0 0 0;\n",
              "      width: 32px;\n",
              "    }\n",
              "\n",
              "    .colab-df-convert:hover {\n",
              "      background-color: #E2EBFA;\n",
              "      box-shadow: 0px 1px 2px rgba(60, 64, 67, 0.3), 0px 1px 3px 1px rgba(60, 64, 67, 0.15);\n",
              "      fill: #174EA6;\n",
              "    }\n",
              "\n",
              "    [theme=dark] .colab-df-convert {\n",
              "      background-color: #3B4455;\n",
              "      fill: #D2E3FC;\n",
              "    }\n",
              "\n",
              "    [theme=dark] .colab-df-convert:hover {\n",
              "      background-color: #434B5C;\n",
              "      box-shadow: 0px 1px 3px 1px rgba(0, 0, 0, 0.15);\n",
              "      filter: drop-shadow(0px 1px 2px rgba(0, 0, 0, 0.3));\n",
              "      fill: #FFFFFF;\n",
              "    }\n",
              "  </style>\n",
              "\n",
              "      <script>\n",
              "        const buttonEl =\n",
              "          document.querySelector('#df-c0876012-2687-43c2-8048-aada3b64dbbf button.colab-df-convert');\n",
              "        buttonEl.style.display =\n",
              "          google.colab.kernel.accessAllowed ? 'block' : 'none';\n",
              "\n",
              "        async function convertToInteractive(key) {\n",
              "          const element = document.querySelector('#df-c0876012-2687-43c2-8048-aada3b64dbbf');\n",
              "          const dataTable =\n",
              "            await google.colab.kernel.invokeFunction('convertToInteractive',\n",
              "                                                     [key], {});\n",
              "          if (!dataTable) return;\n",
              "\n",
              "          const docLinkHtml = 'Like what you see? Visit the ' +\n",
              "            '<a target=\"_blank\" href=https://colab.research.google.com/notebooks/data_table.ipynb>data table notebook</a>'\n",
              "            + ' to learn more about interactive tables.';\n",
              "          element.innerHTML = '';\n",
              "          dataTable['output_type'] = 'display_data';\n",
              "          await google.colab.output.renderOutput(dataTable, element);\n",
              "          const docLink = document.createElement('div');\n",
              "          docLink.innerHTML = docLinkHtml;\n",
              "          element.appendChild(docLink);\n",
              "        }\n",
              "      </script>\n",
              "    </div>\n",
              "  </div>\n",
              "  "
            ]
          },
          "metadata": {},
          "execution_count": 3
        }
      ],
      "source": [
        "#Loading Dataset\n",
        "data = pd.read_csv(\"train_flooding_data.csv\",header=None, names=['Label','Time','ID','Signal_1','Signal_2','Signal_3','Signal_4'])\n",
        "data.head(5)"
      ]
    },
    {
      "cell_type": "markdown",
      "source": [
        "Data Cleaning & Transformation"
      ],
      "metadata": {
        "id": "nnH_iu8ld6rg"
      }
    },
    {
      "cell_type": "code",
      "execution_count": null,
      "metadata": {
        "id": "EQYW-47QNEst"
      },
      "outputs": [],
      "source": [
        "data=data.drop(index=0)"
      ]
    },
    {
      "cell_type": "code",
      "execution_count": null,
      "metadata": {
        "id": "84BE2eIvFMm-"
      },
      "outputs": [],
      "source": [
        "ID_dic={\"id1\":1,\"id2\":2,\"id3\":3,\"id4\":4,\"id5\":5,\"id6\":6,\"id7\":7,\"id8\":8,\"id9\":9,\"id10\":10}\n",
        "data=data.replace({\"ID\":ID_dic})"
      ]
    },
    {
      "cell_type": "code",
      "execution_count": null,
      "metadata": {
        "id": "UdjtIrtAJy7v"
      },
      "outputs": [],
      "source": [
        "sig_1={None:0.0001}\n",
        "data=data.replace({\"Signal_1\":sig_1})\n",
        "sig_2={None:0.0001}\n",
        "data=data.replace({\"Signal_2\":sig_2})\n",
        "sig_3={None:0.0001}\n",
        "data=data.replace({\"Signal_3\":sig_3})\n",
        "sig_4={None:0.0001}\n",
        "data=data.replace({\"Signal_4\":sig_4})"
      ]
    },
    {
      "cell_type": "code",
      "execution_count": null,
      "metadata": {
        "colab": {
          "base_uri": "https://localhost:8080/",
          "height": 206
        },
        "id": "loQeCGz5NOZx",
        "outputId": "7d62d160-9e1b-4f61-90aa-3738533759ae"
      },
      "outputs": [
        {
          "output_type": "execute_result",
          "data": {
            "text/plain": [
              "   Label          Time  ID  Signal_1  Signal_2  Signal_3  Signal_4\n",
              "1      0  8.100845e+07   3  0.200000  1.000000    0.0001    0.0001\n",
              "2      0  8.100846e+07   9  0.370003  0.000100    0.0001    0.0001\n",
              "3      0  8.100846e+07   7  0.044139  0.000000    0.0001    0.0001\n",
              "4      0  8.100846e+07   8  0.170534  0.000100    0.0001    0.0001\n",
              "5      0  8.100846e+07   5  0.173044  0.874886    0.0001    0.0001"
            ],
            "text/html": [
              "\n",
              "  <div id=\"df-7e7a56a4-2caf-477a-abb9-c695ce5fdde7\">\n",
              "    <div class=\"colab-df-container\">\n",
              "      <div>\n",
              "<style scoped>\n",
              "    .dataframe tbody tr th:only-of-type {\n",
              "        vertical-align: middle;\n",
              "    }\n",
              "\n",
              "    .dataframe tbody tr th {\n",
              "        vertical-align: top;\n",
              "    }\n",
              "\n",
              "    .dataframe thead th {\n",
              "        text-align: right;\n",
              "    }\n",
              "</style>\n",
              "<table border=\"1\" class=\"dataframe\">\n",
              "  <thead>\n",
              "    <tr style=\"text-align: right;\">\n",
              "      <th></th>\n",
              "      <th>Label</th>\n",
              "      <th>Time</th>\n",
              "      <th>ID</th>\n",
              "      <th>Signal_1</th>\n",
              "      <th>Signal_2</th>\n",
              "      <th>Signal_3</th>\n",
              "      <th>Signal_4</th>\n",
              "    </tr>\n",
              "  </thead>\n",
              "  <tbody>\n",
              "    <tr>\n",
              "      <th>1</th>\n",
              "      <td>0</td>\n",
              "      <td>8.100845e+07</td>\n",
              "      <td>3</td>\n",
              "      <td>0.200000</td>\n",
              "      <td>1.000000</td>\n",
              "      <td>0.0001</td>\n",
              "      <td>0.0001</td>\n",
              "    </tr>\n",
              "    <tr>\n",
              "      <th>2</th>\n",
              "      <td>0</td>\n",
              "      <td>8.100846e+07</td>\n",
              "      <td>9</td>\n",
              "      <td>0.370003</td>\n",
              "      <td>0.000100</td>\n",
              "      <td>0.0001</td>\n",
              "      <td>0.0001</td>\n",
              "    </tr>\n",
              "    <tr>\n",
              "      <th>3</th>\n",
              "      <td>0</td>\n",
              "      <td>8.100846e+07</td>\n",
              "      <td>7</td>\n",
              "      <td>0.044139</td>\n",
              "      <td>0.000000</td>\n",
              "      <td>0.0001</td>\n",
              "      <td>0.0001</td>\n",
              "    </tr>\n",
              "    <tr>\n",
              "      <th>4</th>\n",
              "      <td>0</td>\n",
              "      <td>8.100846e+07</td>\n",
              "      <td>8</td>\n",
              "      <td>0.170534</td>\n",
              "      <td>0.000100</td>\n",
              "      <td>0.0001</td>\n",
              "      <td>0.0001</td>\n",
              "    </tr>\n",
              "    <tr>\n",
              "      <th>5</th>\n",
              "      <td>0</td>\n",
              "      <td>8.100846e+07</td>\n",
              "      <td>5</td>\n",
              "      <td>0.173044</td>\n",
              "      <td>0.874886</td>\n",
              "      <td>0.0001</td>\n",
              "      <td>0.0001</td>\n",
              "    </tr>\n",
              "  </tbody>\n",
              "</table>\n",
              "</div>\n",
              "      <button class=\"colab-df-convert\" onclick=\"convertToInteractive('df-7e7a56a4-2caf-477a-abb9-c695ce5fdde7')\"\n",
              "              title=\"Convert this dataframe to an interactive table.\"\n",
              "              style=\"display:none;\">\n",
              "        \n",
              "  <svg xmlns=\"http://www.w3.org/2000/svg\" height=\"24px\"viewBox=\"0 0 24 24\"\n",
              "       width=\"24px\">\n",
              "    <path d=\"M0 0h24v24H0V0z\" fill=\"none\"/>\n",
              "    <path d=\"M18.56 5.44l.94 2.06.94-2.06 2.06-.94-2.06-.94-.94-2.06-.94 2.06-2.06.94zm-11 1L8.5 8.5l.94-2.06 2.06-.94-2.06-.94L8.5 2.5l-.94 2.06-2.06.94zm10 10l.94 2.06.94-2.06 2.06-.94-2.06-.94-.94-2.06-.94 2.06-2.06.94z\"/><path d=\"M17.41 7.96l-1.37-1.37c-.4-.4-.92-.59-1.43-.59-.52 0-1.04.2-1.43.59L10.3 9.45l-7.72 7.72c-.78.78-.78 2.05 0 2.83L4 21.41c.39.39.9.59 1.41.59.51 0 1.02-.2 1.41-.59l7.78-7.78 2.81-2.81c.8-.78.8-2.07 0-2.86zM5.41 20L4 18.59l7.72-7.72 1.47 1.35L5.41 20z\"/>\n",
              "  </svg>\n",
              "      </button>\n",
              "      \n",
              "  <style>\n",
              "    .colab-df-container {\n",
              "      display:flex;\n",
              "      flex-wrap:wrap;\n",
              "      gap: 12px;\n",
              "    }\n",
              "\n",
              "    .colab-df-convert {\n",
              "      background-color: #E8F0FE;\n",
              "      border: none;\n",
              "      border-radius: 50%;\n",
              "      cursor: pointer;\n",
              "      display: none;\n",
              "      fill: #1967D2;\n",
              "      height: 32px;\n",
              "      padding: 0 0 0 0;\n",
              "      width: 32px;\n",
              "    }\n",
              "\n",
              "    .colab-df-convert:hover {\n",
              "      background-color: #E2EBFA;\n",
              "      box-shadow: 0px 1px 2px rgba(60, 64, 67, 0.3), 0px 1px 3px 1px rgba(60, 64, 67, 0.15);\n",
              "      fill: #174EA6;\n",
              "    }\n",
              "\n",
              "    [theme=dark] .colab-df-convert {\n",
              "      background-color: #3B4455;\n",
              "      fill: #D2E3FC;\n",
              "    }\n",
              "\n",
              "    [theme=dark] .colab-df-convert:hover {\n",
              "      background-color: #434B5C;\n",
              "      box-shadow: 0px 1px 3px 1px rgba(0, 0, 0, 0.15);\n",
              "      filter: drop-shadow(0px 1px 2px rgba(0, 0, 0, 0.3));\n",
              "      fill: #FFFFFF;\n",
              "    }\n",
              "  </style>\n",
              "\n",
              "      <script>\n",
              "        const buttonEl =\n",
              "          document.querySelector('#df-7e7a56a4-2caf-477a-abb9-c695ce5fdde7 button.colab-df-convert');\n",
              "        buttonEl.style.display =\n",
              "          google.colab.kernel.accessAllowed ? 'block' : 'none';\n",
              "\n",
              "        async function convertToInteractive(key) {\n",
              "          const element = document.querySelector('#df-7e7a56a4-2caf-477a-abb9-c695ce5fdde7');\n",
              "          const dataTable =\n",
              "            await google.colab.kernel.invokeFunction('convertToInteractive',\n",
              "                                                     [key], {});\n",
              "          if (!dataTable) return;\n",
              "\n",
              "          const docLinkHtml = 'Like what you see? Visit the ' +\n",
              "            '<a target=\"_blank\" href=https://colab.research.google.com/notebooks/data_table.ipynb>data table notebook</a>'\n",
              "            + ' to learn more about interactive tables.';\n",
              "          element.innerHTML = '';\n",
              "          dataTable['output_type'] = 'display_data';\n",
              "          await google.colab.output.renderOutput(dataTable, element);\n",
              "          const docLink = document.createElement('div');\n",
              "          docLink.innerHTML = docLinkHtml;\n",
              "          element.appendChild(docLink);\n",
              "        }\n",
              "      </script>\n",
              "    </div>\n",
              "  </div>\n",
              "  "
            ]
          },
          "metadata": {},
          "execution_count": 7
        }
      ],
      "source": [
        "data['Label'] = pd.to_numeric(data['Label'])\n",
        "data['Time'] = pd.to_numeric(data['Time'])\n",
        "data['Signal_1'] = pd.to_numeric(data['Signal_1'])\n",
        "data['Signal_2'] = pd.to_numeric(data['Signal_2'])\n",
        "data['Signal_3'] = pd.to_numeric(data['Signal_3'])\n",
        "data['Signal_4'] = pd.to_numeric(data['Signal_4'])\n",
        "data.head(5)"
      ]
    },
    {
      "cell_type": "code",
      "execution_count": null,
      "metadata": {
        "id": "oGhal-KGD5DY"
      },
      "outputs": [],
      "source": [
        "X_train = data.iloc[:,1:].values"
      ]
    },
    {
      "cell_type": "code",
      "execution_count": null,
      "metadata": {
        "id": "7vVIMf4HJ4Pa"
      },
      "outputs": [],
      "source": [
        "Y_train = data.iloc[:,0].values"
      ]
    },
    {
      "cell_type": "code",
      "execution_count": null,
      "metadata": {
        "colab": {
          "base_uri": "https://localhost:8080/",
          "height": 241
        },
        "id": "A6iZXoVLCU8_",
        "outputId": "b77030ef-5674-4ccc-ce24-9853ed261e83"
      },
      "outputs": [
        {
          "output_type": "stream",
          "name": "stderr",
          "text": [
            "<ipython-input-10-2598c922afaf>:2: DtypeWarning: Columns (0,1,3,4,5,6) have mixed types. Specify dtype option on import or set low_memory=False.\n",
            "  data2 = pd.read_csv(\"test_flooding_data.csv\",header=None, names=['Label','Time','ID','Signal_1','Signal_2','Signal_3','Signal_4'])\n"
          ]
        },
        {
          "output_type": "execute_result",
          "data": {
            "text/plain": [
              "   Label           Time   ID            Signal_1            Signal_2  \\\n",
              "0  Label           Time   ID       Signal1_of_ID       Signal2_of_ID   \n",
              "1      0  84609015.5321  id7  0.0534030319165358                 0.5   \n",
              "2      0  84609016.0812  id5  0.1305365512894374  0.9993689406052844   \n",
              "3      0  84609019.5537  id6                 1.0  0.8888888888888888   \n",
              "4      0   84609020.493  id3                 1.0   0.994631763073768   \n",
              "\n",
              "        Signal_3       Signal_4  \n",
              "0  Signal3_of_ID  Signal4_of_ID  \n",
              "1            NaN            NaN  \n",
              "2            NaN            NaN  \n",
              "3            NaN            NaN  \n",
              "4            NaN            NaN  "
            ],
            "text/html": [
              "\n",
              "  <div id=\"df-bde71183-8842-4f8a-b97a-13dc6668b20c\">\n",
              "    <div class=\"colab-df-container\">\n",
              "      <div>\n",
              "<style scoped>\n",
              "    .dataframe tbody tr th:only-of-type {\n",
              "        vertical-align: middle;\n",
              "    }\n",
              "\n",
              "    .dataframe tbody tr th {\n",
              "        vertical-align: top;\n",
              "    }\n",
              "\n",
              "    .dataframe thead th {\n",
              "        text-align: right;\n",
              "    }\n",
              "</style>\n",
              "<table border=\"1\" class=\"dataframe\">\n",
              "  <thead>\n",
              "    <tr style=\"text-align: right;\">\n",
              "      <th></th>\n",
              "      <th>Label</th>\n",
              "      <th>Time</th>\n",
              "      <th>ID</th>\n",
              "      <th>Signal_1</th>\n",
              "      <th>Signal_2</th>\n",
              "      <th>Signal_3</th>\n",
              "      <th>Signal_4</th>\n",
              "    </tr>\n",
              "  </thead>\n",
              "  <tbody>\n",
              "    <tr>\n",
              "      <th>0</th>\n",
              "      <td>Label</td>\n",
              "      <td>Time</td>\n",
              "      <td>ID</td>\n",
              "      <td>Signal1_of_ID</td>\n",
              "      <td>Signal2_of_ID</td>\n",
              "      <td>Signal3_of_ID</td>\n",
              "      <td>Signal4_of_ID</td>\n",
              "    </tr>\n",
              "    <tr>\n",
              "      <th>1</th>\n",
              "      <td>0</td>\n",
              "      <td>84609015.5321</td>\n",
              "      <td>id7</td>\n",
              "      <td>0.0534030319165358</td>\n",
              "      <td>0.5</td>\n",
              "      <td>NaN</td>\n",
              "      <td>NaN</td>\n",
              "    </tr>\n",
              "    <tr>\n",
              "      <th>2</th>\n",
              "      <td>0</td>\n",
              "      <td>84609016.0812</td>\n",
              "      <td>id5</td>\n",
              "      <td>0.1305365512894374</td>\n",
              "      <td>0.9993689406052844</td>\n",
              "      <td>NaN</td>\n",
              "      <td>NaN</td>\n",
              "    </tr>\n",
              "    <tr>\n",
              "      <th>3</th>\n",
              "      <td>0</td>\n",
              "      <td>84609019.5537</td>\n",
              "      <td>id6</td>\n",
              "      <td>1.0</td>\n",
              "      <td>0.8888888888888888</td>\n",
              "      <td>NaN</td>\n",
              "      <td>NaN</td>\n",
              "    </tr>\n",
              "    <tr>\n",
              "      <th>4</th>\n",
              "      <td>0</td>\n",
              "      <td>84609020.493</td>\n",
              "      <td>id3</td>\n",
              "      <td>1.0</td>\n",
              "      <td>0.994631763073768</td>\n",
              "      <td>NaN</td>\n",
              "      <td>NaN</td>\n",
              "    </tr>\n",
              "  </tbody>\n",
              "</table>\n",
              "</div>\n",
              "      <button class=\"colab-df-convert\" onclick=\"convertToInteractive('df-bde71183-8842-4f8a-b97a-13dc6668b20c')\"\n",
              "              title=\"Convert this dataframe to an interactive table.\"\n",
              "              style=\"display:none;\">\n",
              "        \n",
              "  <svg xmlns=\"http://www.w3.org/2000/svg\" height=\"24px\"viewBox=\"0 0 24 24\"\n",
              "       width=\"24px\">\n",
              "    <path d=\"M0 0h24v24H0V0z\" fill=\"none\"/>\n",
              "    <path d=\"M18.56 5.44l.94 2.06.94-2.06 2.06-.94-2.06-.94-.94-2.06-.94 2.06-2.06.94zm-11 1L8.5 8.5l.94-2.06 2.06-.94-2.06-.94L8.5 2.5l-.94 2.06-2.06.94zm10 10l.94 2.06.94-2.06 2.06-.94-2.06-.94-.94-2.06-.94 2.06-2.06.94z\"/><path d=\"M17.41 7.96l-1.37-1.37c-.4-.4-.92-.59-1.43-.59-.52 0-1.04.2-1.43.59L10.3 9.45l-7.72 7.72c-.78.78-.78 2.05 0 2.83L4 21.41c.39.39.9.59 1.41.59.51 0 1.02-.2 1.41-.59l7.78-7.78 2.81-2.81c.8-.78.8-2.07 0-2.86zM5.41 20L4 18.59l7.72-7.72 1.47 1.35L5.41 20z\"/>\n",
              "  </svg>\n",
              "      </button>\n",
              "      \n",
              "  <style>\n",
              "    .colab-df-container {\n",
              "      display:flex;\n",
              "      flex-wrap:wrap;\n",
              "      gap: 12px;\n",
              "    }\n",
              "\n",
              "    .colab-df-convert {\n",
              "      background-color: #E8F0FE;\n",
              "      border: none;\n",
              "      border-radius: 50%;\n",
              "      cursor: pointer;\n",
              "      display: none;\n",
              "      fill: #1967D2;\n",
              "      height: 32px;\n",
              "      padding: 0 0 0 0;\n",
              "      width: 32px;\n",
              "    }\n",
              "\n",
              "    .colab-df-convert:hover {\n",
              "      background-color: #E2EBFA;\n",
              "      box-shadow: 0px 1px 2px rgba(60, 64, 67, 0.3), 0px 1px 3px 1px rgba(60, 64, 67, 0.15);\n",
              "      fill: #174EA6;\n",
              "    }\n",
              "\n",
              "    [theme=dark] .colab-df-convert {\n",
              "      background-color: #3B4455;\n",
              "      fill: #D2E3FC;\n",
              "    }\n",
              "\n",
              "    [theme=dark] .colab-df-convert:hover {\n",
              "      background-color: #434B5C;\n",
              "      box-shadow: 0px 1px 3px 1px rgba(0, 0, 0, 0.15);\n",
              "      filter: drop-shadow(0px 1px 2px rgba(0, 0, 0, 0.3));\n",
              "      fill: #FFFFFF;\n",
              "    }\n",
              "  </style>\n",
              "\n",
              "      <script>\n",
              "        const buttonEl =\n",
              "          document.querySelector('#df-bde71183-8842-4f8a-b97a-13dc6668b20c button.colab-df-convert');\n",
              "        buttonEl.style.display =\n",
              "          google.colab.kernel.accessAllowed ? 'block' : 'none';\n",
              "\n",
              "        async function convertToInteractive(key) {\n",
              "          const element = document.querySelector('#df-bde71183-8842-4f8a-b97a-13dc6668b20c');\n",
              "          const dataTable =\n",
              "            await google.colab.kernel.invokeFunction('convertToInteractive',\n",
              "                                                     [key], {});\n",
              "          if (!dataTable) return;\n",
              "\n",
              "          const docLinkHtml = 'Like what you see? Visit the ' +\n",
              "            '<a target=\"_blank\" href=https://colab.research.google.com/notebooks/data_table.ipynb>data table notebook</a>'\n",
              "            + ' to learn more about interactive tables.';\n",
              "          element.innerHTML = '';\n",
              "          dataTable['output_type'] = 'display_data';\n",
              "          await google.colab.output.renderOutput(dataTable, element);\n",
              "          const docLink = document.createElement('div');\n",
              "          docLink.innerHTML = docLinkHtml;\n",
              "          element.appendChild(docLink);\n",
              "        }\n",
              "      </script>\n",
              "    </div>\n",
              "  </div>\n",
              "  "
            ]
          },
          "metadata": {},
          "execution_count": 10
        }
      ],
      "source": [
        "#Loading Validatation& testing Dataset\n",
        "data2 = pd.read_csv(\"test_flooding_data.csv\",header=None, names=['Label','Time','ID','Signal_1','Signal_2','Signal_3','Signal_4'])\n",
        "data2.head(5)"
      ]
    },
    {
      "cell_type": "code",
      "execution_count": null,
      "metadata": {
        "id": "o9c5o5B2HzDc"
      },
      "outputs": [],
      "source": [
        "data2=data2.drop(index=0)"
      ]
    },
    {
      "cell_type": "code",
      "execution_count": null,
      "metadata": {
        "id": "1krnZ8ACJ1iw"
      },
      "outputs": [],
      "source": [
        "sig_1={None:0.0001}\n",
        "data2=data2.replace({\"Signal_1\":sig_1})\n",
        "sig_2={None:0.0001}\n",
        "data2=data2.replace({\"Signal_2\":sig_2})\n",
        "sig_3={None:0.0001}\n",
        "data2=data2.replace({\"Signal_3\":sig_3})\n",
        "sig_4={None:0.0001}\n",
        "data2=data2.replace({\"Signal_4\":sig_4})"
      ]
    },
    {
      "cell_type": "code",
      "execution_count": null,
      "metadata": {
        "colab": {
          "base_uri": "https://localhost:8080/",
          "height": 206
        },
        "id": "xghy8cbjCVTz",
        "outputId": "a9f6cb9f-2454-419d-8afa-f722fc5783f6"
      },
      "outputs": [
        {
          "output_type": "execute_result",
          "data": {
            "text/plain": [
              "   Label          Time  ID  Signal_1  Signal_2  Signal_3  Signal_4\n",
              "1      0  8.460902e+07   7  0.053403  0.500000    0.0001    0.0001\n",
              "2      0  8.460902e+07   5  0.130537  0.999369    0.0001    0.0001\n",
              "3      0  8.460902e+07   6  1.000000  0.888889    0.0001    0.0001\n",
              "4      0  8.460902e+07   3  1.000000  0.994632    0.0001    0.0001\n",
              "5      0  8.460902e+07   8  0.187604  0.000100    0.0001    0.0001"
            ],
            "text/html": [
              "\n",
              "  <div id=\"df-9c7f7055-9315-409a-a13a-26e8c4eb5800\">\n",
              "    <div class=\"colab-df-container\">\n",
              "      <div>\n",
              "<style scoped>\n",
              "    .dataframe tbody tr th:only-of-type {\n",
              "        vertical-align: middle;\n",
              "    }\n",
              "\n",
              "    .dataframe tbody tr th {\n",
              "        vertical-align: top;\n",
              "    }\n",
              "\n",
              "    .dataframe thead th {\n",
              "        text-align: right;\n",
              "    }\n",
              "</style>\n",
              "<table border=\"1\" class=\"dataframe\">\n",
              "  <thead>\n",
              "    <tr style=\"text-align: right;\">\n",
              "      <th></th>\n",
              "      <th>Label</th>\n",
              "      <th>Time</th>\n",
              "      <th>ID</th>\n",
              "      <th>Signal_1</th>\n",
              "      <th>Signal_2</th>\n",
              "      <th>Signal_3</th>\n",
              "      <th>Signal_4</th>\n",
              "    </tr>\n",
              "  </thead>\n",
              "  <tbody>\n",
              "    <tr>\n",
              "      <th>1</th>\n",
              "      <td>0</td>\n",
              "      <td>8.460902e+07</td>\n",
              "      <td>7</td>\n",
              "      <td>0.053403</td>\n",
              "      <td>0.500000</td>\n",
              "      <td>0.0001</td>\n",
              "      <td>0.0001</td>\n",
              "    </tr>\n",
              "    <tr>\n",
              "      <th>2</th>\n",
              "      <td>0</td>\n",
              "      <td>8.460902e+07</td>\n",
              "      <td>5</td>\n",
              "      <td>0.130537</td>\n",
              "      <td>0.999369</td>\n",
              "      <td>0.0001</td>\n",
              "      <td>0.0001</td>\n",
              "    </tr>\n",
              "    <tr>\n",
              "      <th>3</th>\n",
              "      <td>0</td>\n",
              "      <td>8.460902e+07</td>\n",
              "      <td>6</td>\n",
              "      <td>1.000000</td>\n",
              "      <td>0.888889</td>\n",
              "      <td>0.0001</td>\n",
              "      <td>0.0001</td>\n",
              "    </tr>\n",
              "    <tr>\n",
              "      <th>4</th>\n",
              "      <td>0</td>\n",
              "      <td>8.460902e+07</td>\n",
              "      <td>3</td>\n",
              "      <td>1.000000</td>\n",
              "      <td>0.994632</td>\n",
              "      <td>0.0001</td>\n",
              "      <td>0.0001</td>\n",
              "    </tr>\n",
              "    <tr>\n",
              "      <th>5</th>\n",
              "      <td>0</td>\n",
              "      <td>8.460902e+07</td>\n",
              "      <td>8</td>\n",
              "      <td>0.187604</td>\n",
              "      <td>0.000100</td>\n",
              "      <td>0.0001</td>\n",
              "      <td>0.0001</td>\n",
              "    </tr>\n",
              "  </tbody>\n",
              "</table>\n",
              "</div>\n",
              "      <button class=\"colab-df-convert\" onclick=\"convertToInteractive('df-9c7f7055-9315-409a-a13a-26e8c4eb5800')\"\n",
              "              title=\"Convert this dataframe to an interactive table.\"\n",
              "              style=\"display:none;\">\n",
              "        \n",
              "  <svg xmlns=\"http://www.w3.org/2000/svg\" height=\"24px\"viewBox=\"0 0 24 24\"\n",
              "       width=\"24px\">\n",
              "    <path d=\"M0 0h24v24H0V0z\" fill=\"none\"/>\n",
              "    <path d=\"M18.56 5.44l.94 2.06.94-2.06 2.06-.94-2.06-.94-.94-2.06-.94 2.06-2.06.94zm-11 1L8.5 8.5l.94-2.06 2.06-.94-2.06-.94L8.5 2.5l-.94 2.06-2.06.94zm10 10l.94 2.06.94-2.06 2.06-.94-2.06-.94-.94-2.06-.94 2.06-2.06.94z\"/><path d=\"M17.41 7.96l-1.37-1.37c-.4-.4-.92-.59-1.43-.59-.52 0-1.04.2-1.43.59L10.3 9.45l-7.72 7.72c-.78.78-.78 2.05 0 2.83L4 21.41c.39.39.9.59 1.41.59.51 0 1.02-.2 1.41-.59l7.78-7.78 2.81-2.81c.8-.78.8-2.07 0-2.86zM5.41 20L4 18.59l7.72-7.72 1.47 1.35L5.41 20z\"/>\n",
              "  </svg>\n",
              "      </button>\n",
              "      \n",
              "  <style>\n",
              "    .colab-df-container {\n",
              "      display:flex;\n",
              "      flex-wrap:wrap;\n",
              "      gap: 12px;\n",
              "    }\n",
              "\n",
              "    .colab-df-convert {\n",
              "      background-color: #E8F0FE;\n",
              "      border: none;\n",
              "      border-radius: 50%;\n",
              "      cursor: pointer;\n",
              "      display: none;\n",
              "      fill: #1967D2;\n",
              "      height: 32px;\n",
              "      padding: 0 0 0 0;\n",
              "      width: 32px;\n",
              "    }\n",
              "\n",
              "    .colab-df-convert:hover {\n",
              "      background-color: #E2EBFA;\n",
              "      box-shadow: 0px 1px 2px rgba(60, 64, 67, 0.3), 0px 1px 3px 1px rgba(60, 64, 67, 0.15);\n",
              "      fill: #174EA6;\n",
              "    }\n",
              "\n",
              "    [theme=dark] .colab-df-convert {\n",
              "      background-color: #3B4455;\n",
              "      fill: #D2E3FC;\n",
              "    }\n",
              "\n",
              "    [theme=dark] .colab-df-convert:hover {\n",
              "      background-color: #434B5C;\n",
              "      box-shadow: 0px 1px 3px 1px rgba(0, 0, 0, 0.15);\n",
              "      filter: drop-shadow(0px 1px 2px rgba(0, 0, 0, 0.3));\n",
              "      fill: #FFFFFF;\n",
              "    }\n",
              "  </style>\n",
              "\n",
              "      <script>\n",
              "        const buttonEl =\n",
              "          document.querySelector('#df-9c7f7055-9315-409a-a13a-26e8c4eb5800 button.colab-df-convert');\n",
              "        buttonEl.style.display =\n",
              "          google.colab.kernel.accessAllowed ? 'block' : 'none';\n",
              "\n",
              "        async function convertToInteractive(key) {\n",
              "          const element = document.querySelector('#df-9c7f7055-9315-409a-a13a-26e8c4eb5800');\n",
              "          const dataTable =\n",
              "            await google.colab.kernel.invokeFunction('convertToInteractive',\n",
              "                                                     [key], {});\n",
              "          if (!dataTable) return;\n",
              "\n",
              "          const docLinkHtml = 'Like what you see? Visit the ' +\n",
              "            '<a target=\"_blank\" href=https://colab.research.google.com/notebooks/data_table.ipynb>data table notebook</a>'\n",
              "            + ' to learn more about interactive tables.';\n",
              "          element.innerHTML = '';\n",
              "          dataTable['output_type'] = 'display_data';\n",
              "          await google.colab.output.renderOutput(dataTable, element);\n",
              "          const docLink = document.createElement('div');\n",
              "          docLink.innerHTML = docLinkHtml;\n",
              "          element.appendChild(docLink);\n",
              "        }\n",
              "      </script>\n",
              "    </div>\n",
              "  </div>\n",
              "  "
            ]
          },
          "metadata": {},
          "execution_count": 13
        }
      ],
      "source": [
        "data2=data2.replace({\"ID\":ID_dic})\n",
        "data2['Label'] = pd.to_numeric(data2['Label'])\n",
        "data2['Time'] = pd.to_numeric(data2['Time'])\n",
        "data2['Signal_1'] = pd.to_numeric(data2['Signal_1'])\n",
        "data2['Signal_2'] = pd.to_numeric(data2['Signal_2'])\n",
        "data2['Signal_3'] = pd.to_numeric(data2['Signal_3'])\n",
        "data2['Signal_4'] = pd.to_numeric(data2['Signal_4'])\n",
        "data2.head(5)"
      ]
    },
    {
      "cell_type": "code",
      "execution_count": null,
      "metadata": {
        "id": "Tq11F5SeCVaK"
      },
      "outputs": [],
      "source": [
        "X_valid = data2.iloc[0:257581,1:].values\n",
        "Y_valid = data2.iloc[0:257581,0].values\n",
        "X_test = data2.iloc[257581:,1:].values\n",
        "Y_test = data2.iloc[257581:,0].values"
      ]
    },
    {
      "cell_type": "code",
      "execution_count": null,
      "metadata": {
        "id": "rcudHYQ0CVcy"
      },
      "outputs": [],
      "source": [
        "from sklearn.preprocessing import StandardScaler\n",
        "sc = StandardScaler()\n",
        "X_train = sc.fit_transform(X_train)\n",
        "X_test = sc.transform(X_test)"
      ]
    },
    {
      "cell_type": "markdown",
      "source": [
        "Grid Search for hyperparameter tuning"
      ],
      "metadata": {
        "id": "sVj00aoVeDhv"
      }
    },
    {
      "cell_type": "code",
      "execution_count": null,
      "metadata": {
        "id": "SuUu7x8gNdxW"
      },
      "outputs": [],
      "source": [
        "ann = tf.keras.models.Sequential()\n",
        "from keras import regularizers"
      ]
    },
    {
      "cell_type": "code",
      "execution_count": null,
      "metadata": {
        "id": "t4o5ZSiQNtCJ"
      },
      "outputs": [],
      "source": [
        "def create_model( dropout=0.01,neurons1=64,neurons2=64):\n",
        "  ann =Sequential()\n",
        "  ann.add(Dense(units=6, input_shape=(6,) ))\n",
        "  ann.add(tf.keras.layers.Dense(units=neurons1,activation='relu',kernel_initializer=\"he_uniform\",kernel_regularizer=regularizers.l2(0.01)))\n",
        "  ann.add(tf.keras.layers.Dropout(dropout))\n",
        "  ann.add(tf.keras.layers.Dense(units=neurons2,activation='relu',kernel_initializer=\"he_uniform\",kernel_regularizer=regularizers.l2(0.01)))\n",
        "  ann.add(tf.keras.layers.Dropout(dropout))\n",
        "  ann.add(Dense(units=1,activation=\"sigmoid\", kernel_initializer=\"glorot_uniform\"))\n",
        "  ann.compile(optimizer='Adam',loss=\"binary_crossentropy\",metrics=['accuracy'])\n",
        "  return ann"
      ]
    },
    {
      "cell_type": "code",
      "execution_count": null,
      "metadata": {
        "id": "0RJmpvadO9WP"
      },
      "outputs": [],
      "source": [
        "param_grid = {'dropout': [0.01, 0.1], 'neurons1' :[64,128,256], 'neurons2':[64,128,256]}"
      ]
    },
    {
      "cell_type": "code",
      "execution_count": null,
      "metadata": {
        "colab": {
          "base_uri": "https://localhost:8080/"
        },
        "id": "QWB3_H60O9a8",
        "outputId": "6e5e73d9-ca50-4005-ade8-8d957ebce494"
      },
      "outputs": [
        {
          "output_type": "stream",
          "name": "stderr",
          "text": [
            "<ipython-input-22-c48144ae6b09>:1: DeprecationWarning: KerasClassifier is deprecated, use Sci-Keras (https://github.com/adriangb/scikeras) instead. See https://www.adriangb.com/scikeras/stable/migration.html for help migrating.\n",
            "  ann=KerasClassifier(build_fn=create_model, epochs=10, batch_size=16, verbose=1)\n"
          ]
        }
      ],
      "source": [
        "ann=KerasClassifier(build_fn=create_model, epochs=10, batch_size=16, verbose=1)"
      ]
    },
    {
      "cell_type": "code",
      "execution_count": null,
      "metadata": {
        "colab": {
          "base_uri": "https://localhost:8080/",
          "height": 1000
        },
        "id": "xng3zzu1O9dc",
        "outputId": "4b2eefe9-8e8d-44ed-ab64-4857c1be4f8a"
      },
      "outputs": [
        {
          "output_type": "stream",
          "name": "stdout",
          "text": [
            "12879/12879 [==============================] - 35s 3ms/step - loss: 153395.0000 - accuracy: 0.6406\n",
            "3220/3220 [==============================] - 5s 2ms/step - loss: 1.6810 - accuracy: 0.7756\n",
            "12880/12880 [==============================] - 37s 3ms/step - loss: 110050.4844 - accuracy: 0.6894\n",
            "3220/3220 [==============================] - 6s 2ms/step - loss: 1.9512 - accuracy: 0.5275\n",
            "12880/12880 [==============================] - 38s 3ms/step - loss: 176521.1719 - accuracy: 0.6323\n",
            "3220/3220 [==============================] - 6s 2ms/step - loss: 1.7750 - accuracy: 0.8262\n",
            "12880/12880 [==============================] - 40s 3ms/step - loss: 89730.8750 - accuracy: 0.6666\n",
            "3220/3220 [==============================] - 8s 3ms/step - loss: 1.6978 - accuracy: 0.7239\n",
            "12880/12880 [==============================] - 37s 3ms/step - loss: 58829.0273 - accuracy: 0.6532\n",
            "3220/3220 [==============================] - 7s 2ms/step - loss: 1.6791 - accuracy: 0.7388\n",
            "12879/12879 [==============================] - 32s 2ms/step - loss: 286489.9375 - accuracy: 0.6298\n",
            "3220/3220 [==============================] - 5s 2ms/step - loss: 2.4193 - accuracy: 0.7756\n",
            "12880/12880 [==============================] - 35s 3ms/step - loss: 101071.9609 - accuracy: 0.6801\n",
            "3220/3220 [==============================] - 5s 2ms/step - loss: 1.8863 - accuracy: 0.5275\n",
            "12880/12880 [==============================] - 34s 3ms/step - loss: 118728.6953 - accuracy: 0.6230\n",
            "3220/3220 [==============================] - 7s 2ms/step - loss: 1.8255 - accuracy: 0.8262\n",
            "12880/12880 [==============================] - 36s 3ms/step - loss: 93959.4062 - accuracy: 0.6599\n",
            "3220/3220 [==============================] - 5s 2ms/step - loss: 2.0869 - accuracy: 0.7239\n",
            "12880/12880 [==============================] - 36s 3ms/step - loss: 106526.8594 - accuracy: 0.6343\n",
            "3220/3220 [==============================] - 6s 2ms/step - loss: 2.0846 - accuracy: 0.7388\n",
            "12879/12879 [==============================] - 33s 2ms/step - loss: 117574.1562 - accuracy: 0.6384\n",
            "3220/3220 [==============================] - 5s 2ms/step - loss: 2.7832 - accuracy: 0.7756\n",
            "12880/12880 [==============================] - 37s 3ms/step - loss: 112970.3516 - accuracy: 0.7044\n",
            "3220/3220 [==============================] - 5s 2ms/step - loss: 3.0229 - accuracy: 0.5275\n",
            "12880/12880 [==============================] - 38s 3ms/step - loss: 257500.3750 - accuracy: 0.5998\n",
            "3220/3220 [==============================] - 5s 2ms/step - loss: 3.2530 - accuracy: 0.8262\n",
            "12880/12880 [==============================] - 38s 3ms/step - loss: 249639.7188 - accuracy: 0.6313\n",
            "3220/3220 [==============================] - 5s 2ms/step - loss: 3.1379 - accuracy: 0.7239\n",
            "12880/12880 [==============================] - 39s 3ms/step - loss: 49184.4531 - accuracy: 0.6850\n",
            "3220/3220 [==============================] - 5s 2ms/step - loss: 3.1593 - accuracy: 0.7388\n",
            "12879/12879 [==============================] - 33s 3ms/step - loss: 65823.3438 - accuracy: 0.6818\n",
            "3220/3220 [==============================] - 6s 2ms/step - loss: 2.1943 - accuracy: 0.7756\n",
            "12880/12880 [==============================] - 34s 3ms/step - loss: 156723.2500 - accuracy: 0.7396\n",
            "3220/3220 [==============================] - 5s 2ms/step - loss: 2.7462 - accuracy: 0.5275\n",
            "12880/12880 [==============================] - 33s 2ms/step - loss: 61494.5430 - accuracy: 0.6621\n",
            "3220/3220 [==============================] - 5s 1ms/step - loss: 2.1084 - accuracy: 0.8262\n",
            "12880/12880 [==============================] - 32s 2ms/step - loss: 169698.1562 - accuracy: 0.6761\n",
            "3220/3220 [==============================] - 6s 2ms/step - loss: 2.1608 - accuracy: 0.7239\n",
            "12880/12880 [==============================] - 33s 2ms/step - loss: 148715.2500 - accuracy: 0.6889\n",
            "3220/3220 [==============================] - 6s 2ms/step - loss: 2.7612 - accuracy: 0.7388\n",
            "12879/12879 [==============================] - 34s 3ms/step - loss: 210832.6406 - accuracy: 0.6479\n",
            "3220/3220 [==============================] - 5s 2ms/step - loss: 2.8394 - accuracy: 0.7756\n",
            "12880/12880 [==============================] - 36s 3ms/step - loss: 211147.5000 - accuracy: 0.7315\n",
            "3220/3220 [==============================] - 5s 2ms/step - loss: 3.1686 - accuracy: 0.5275\n",
            "12880/12880 [==============================] - 39s 3ms/step - loss: 45474.2227 - accuracy: 0.6495\n",
            "3220/3220 [==============================] - 6s 2ms/step - loss: 2.4724 - accuracy: 0.8262\n",
            "12880/12880 [==============================] - 38s 3ms/step - loss: 161679.2969 - accuracy: 0.6743\n",
            "3220/3220 [==============================] - 6s 2ms/step - loss: 2.8889 - accuracy: 0.7239\n",
            "12880/12880 [==============================] - 38s 3ms/step - loss: 131540.3906 - accuracy: 0.6678\n",
            "3220/3220 [==============================] - 6s 2ms/step - loss: 2.9057 - accuracy: 0.7388\n",
            "12879/12879 [==============================] - 38s 3ms/step - loss: 141629.9375 - accuracy: 0.6103\n",
            "3220/3220 [==============================] - 5s 2ms/step - loss: 5.4053 - accuracy: 0.7756\n",
            "12880/12880 [==============================] - 39s 3ms/step - loss: 167091.7969 - accuracy: 0.7051\n",
            "3220/3220 [==============================] - 6s 2ms/step - loss: 3.8239 - accuracy: 0.5275\n",
            "12880/12880 [==============================] - 38s 3ms/step - loss: 209714.4688 - accuracy: 0.6261\n",
            "3220/3220 [==============================] - 5s 2ms/step - loss: 3.8984 - accuracy: 0.8262\n",
            "12880/12880 [==============================] - 38s 3ms/step - loss: 130879.3672 - accuracy: 0.6246\n",
            "3220/3220 [==============================] - 6s 2ms/step - loss: 3.6925 - accuracy: 0.7239\n",
            "12880/12880 [==============================] - 38s 3ms/step - loss: 250501.3281 - accuracy: 0.6571\n",
            "3220/3220 [==============================] - 6s 2ms/step - loss: 4.0210 - accuracy: 0.7388\n",
            "12879/12879 [==============================] - 33s 3ms/step - loss: 89983.3750 - accuracy: 0.6919\n",
            "3220/3220 [==============================] - 5s 2ms/step - loss: 3.7432 - accuracy: 0.7756\n",
            "12880/12880 [==============================] - 35s 3ms/step - loss: 62435.9961 - accuracy: 0.7522\n",
            "3220/3220 [==============================] - 6s 2ms/step - loss: 3.9159 - accuracy: 0.5275\n",
            "12880/12880 [==============================] - 35s 3ms/step - loss: 203331.3438 - accuracy: 0.6783\n",
            "3220/3220 [==============================] - 6s 2ms/step - loss: 3.7000 - accuracy: 0.8262\n",
            "12880/12880 [==============================] - 37s 3ms/step - loss: 199355.8594 - accuracy: 0.7046\n",
            "3220/3220 [==============================] - 6s 2ms/step - loss: 3.8481 - accuracy: 0.7239\n",
            "12880/12880 [==============================] - 37s 3ms/step - loss: 86655.0859 - accuracy: 0.7015\n",
            "3220/3220 [==============================] - 6s 2ms/step - loss: 3.8137 - accuracy: 0.7388\n",
            "12879/12879 [==============================] - 39s 3ms/step - loss: 115873.0234 - accuracy: 0.6781\n",
            "3220/3220 [==============================] - 5s 2ms/step - loss: 3.8283 - accuracy: 0.7756\n",
            "12880/12880 [==============================] - 40s 3ms/step - loss: 147979.6875 - accuracy: 0.7421\n",
            "3220/3220 [==============================] - 6s 2ms/step - loss: 4.5077 - accuracy: 0.5275\n",
            "12880/12880 [==============================] - 39s 3ms/step - loss: 141497.7969 - accuracy: 0.6666\n",
            "3220/3220 [==============================] - 6s 2ms/step - loss: 4.1139 - accuracy: 0.8262\n",
            "12880/12880 [==============================] - 39s 3ms/step - loss: 90607.1641 - accuracy: 0.6969\n",
            "3220/3220 [==============================] - 6s 2ms/step - loss: 4.0191 - accuracy: 0.7239\n",
            "12880/12880 [==============================] - 40s 3ms/step - loss: 86370.3750 - accuracy: 0.6799\n",
            "3220/3220 [==============================] - 5s 2ms/step - loss: 3.7392 - accuracy: 0.7388\n",
            "12879/12879 [==============================] - 42s 3ms/step - loss: 215096.5156 - accuracy: 0.6248\n",
            "3220/3220 [==============================] - 5s 2ms/step - loss: 5.5539 - accuracy: 0.7756\n",
            "12880/12880 [==============================] - 46s 3ms/step - loss: 120225.9141 - accuracy: 0.7179\n",
            "3220/3220 [==============================] - 6s 2ms/step - loss: 5.2024 - accuracy: 0.5275\n",
            "12880/12880 [==============================] - 44s 3ms/step - loss: 241044.9375 - accuracy: 0.6593\n",
            "3220/3220 [==============================] - 7s 2ms/step - loss: 4.9582 - accuracy: 0.8262\n",
            "12880/12880 [==============================] - 49s 4ms/step - loss: 141010.6094 - accuracy: 0.6763\n",
            "3220/3220 [==============================] - 6s 2ms/step - loss: 4.9638 - accuracy: 0.7239\n",
            "12880/12880 [==============================] - 48s 4ms/step - loss: 277443.2812 - accuracy: 0.6820\n",
            "3220/3220 [==============================] - 7s 2ms/step - loss: 4.8465 - accuracy: 0.7388\n",
            "12879/12879 [==============================] - 30s 2ms/step - loss: 72850.6953 - accuracy: 0.6866\n",
            "3220/3220 [==============================] - 5s 2ms/step - loss: 1.9107 - accuracy: 0.7756\n",
            "12880/12880 [==============================] - 33s 3ms/step - loss: 130419.3750 - accuracy: 0.7540\n",
            "3220/3220 [==============================] - 6s 2ms/step - loss: 2.0879 - accuracy: 0.5275\n",
            "12880/12880 [==============================] - 31s 2ms/step - loss: 104887.5625 - accuracy: 0.6741\n",
            "3220/3220 [==============================] - 5s 1ms/step - loss: 1.7104 - accuracy: 0.8262\n",
            "12880/12880 [==============================] - 33s 2ms/step - loss: 89554.8516 - accuracy: 0.7031\n",
            "3220/3220 [==============================] - 5s 2ms/step - loss: 2.0373 - accuracy: 0.7239\n",
            "12880/12880 [==============================] - 34s 3ms/step - loss: 130260.6797 - accuracy: 0.6973\n",
            "3220/3220 [==============================] - 6s 2ms/step - loss: 1.9441 - accuracy: 0.7388\n",
            "12879/12879 [==============================] - 32s 2ms/step - loss: 77235.3984 - accuracy: 0.6745\n",
            "3220/3220 [==============================] - 5s 2ms/step - loss: 2.5565 - accuracy: 0.7756\n",
            "12880/12880 [==============================] - 34s 3ms/step - loss: 137879.0938 - accuracy: 0.7408\n",
            "3220/3220 [==============================] - 6s 2ms/step - loss: 2.6894 - accuracy: 0.5275\n",
            "12880/12880 [==============================] - 34s 3ms/step - loss: 96659.8984 - accuracy: 0.6650\n",
            "3220/3220 [==============================] - 5s 2ms/step - loss: 2.2472 - accuracy: 0.8262\n",
            "12880/12880 [==============================] - 38s 3ms/step - loss: 146312.5156 - accuracy: 0.6955\n",
            "3220/3220 [==============================] - 6s 2ms/step - loss: 2.6964 - accuracy: 0.7239\n",
            "12880/12880 [==============================] - 34s 3ms/step - loss: 98241.1250 - accuracy: 0.6662\n",
            "3220/3220 [==============================] - 5s 2ms/step - loss: 2.2523 - accuracy: 0.7388\n",
            "12879/12879 [==============================] - 36s 3ms/step - loss: 200670.0156 - accuracy: 0.6797\n",
            "3220/3220 [==============================] - 5s 2ms/step - loss: 3.3536 - accuracy: 0.7756\n",
            "12880/12880 [==============================] - 39s 3ms/step - loss: 68152.4766 - accuracy: 0.7168\n",
            "3220/3220 [==============================] - 5s 2ms/step - loss: 3.5510 - accuracy: 0.5275\n",
            "12880/12880 [==============================] - 38s 3ms/step - loss: 264210.4688 - accuracy: 0.6668\n",
            "3220/3220 [==============================] - 5s 2ms/step - loss: 4.0396 - accuracy: 0.8262\n",
            "12880/12880 [==============================] - 36s 3ms/step - loss: 122983.7188 - accuracy: 0.6904\n",
            "3220/3220 [==============================] - 5s 2ms/step - loss: 3.1783 - accuracy: 0.7239\n",
            "12880/12880 [==============================] - 36s 3ms/step - loss: 119807.9531 - accuracy: 0.6584\n",
            "3220/3220 [==============================] - 6s 2ms/step - loss: 3.2988 - accuracy: 0.7388\n",
            "12879/12879 [==============================] - 31s 2ms/step - loss: 88264.1641 - accuracy: 0.6987\n",
            "3220/3220 [==============================] - 6s 2ms/step - loss: 2.4536 - accuracy: 0.7756\n",
            "12880/12880 [==============================] - 32s 2ms/step - loss: 135798.8594 - accuracy: 0.7556\n",
            "3220/3220 [==============================] - 5s 1ms/step - loss: 2.9076 - accuracy: 0.5275\n",
            "12880/12880 [==============================] - 31s 2ms/step - loss: 116544.9141 - accuracy: 0.6853\n",
            "3220/3220 [==============================] - 6s 2ms/step - loss: 2.2000 - accuracy: 0.8262\n",
            "12880/12880 [==============================] - 34s 2ms/step - loss: 59964.5977 - accuracy: 0.7108\n",
            "3220/3220 [==============================] - 5s 2ms/step - loss: 2.6692 - accuracy: 0.7239\n",
            "12880/12880 [==============================] - 35s 3ms/step - loss: 88608.9844 - accuracy: 0.7075\n",
            "3220/3220 [==============================] - 6s 2ms/step - loss: 2.4664 - accuracy: 0.7388\n",
            "12879/12879 [==============================] - 33s 2ms/step - loss: 144934.4688 - accuracy: 0.6918\n",
            "3220/3220 [==============================] - 5s 2ms/step - loss: 3.2445 - accuracy: 0.7756\n",
            "12880/12880 [==============================] - 37s 3ms/step - loss: 66050.9531 - accuracy: 0.7539\n",
            "3220/3220 [==============================] - 5s 2ms/step - loss: 3.2137 - accuracy: 0.5275\n",
            "12880/12880 [==============================] - 36s 3ms/step - loss: 176966.7656 - accuracy: 0.6782\n",
            "3220/3220 [==============================] - 6s 2ms/step - loss: 2.9574 - accuracy: 0.8262\n",
            "12880/12880 [==============================] - 35s 3ms/step - loss: 117228.7266 - accuracy: 0.7053\n",
            "3220/3220 [==============================] - 5s 2ms/step - loss: 3.4499 - accuracy: 0.7239\n",
            "12880/12880 [==============================] - 33s 2ms/step - loss: 89818.9297 - accuracy: 0.7021\n",
            "3220/3220 [==============================] - 5s 1ms/step - loss: 2.9205 - accuracy: 0.7388\n",
            "12879/12879 [==============================] - 34s 3ms/step - loss: 183033.1562 - accuracy: 0.6871\n",
            "3220/3220 [==============================] - 6s 2ms/step - loss: 4.2171 - accuracy: 0.7756\n",
            "12880/12880 [==============================] - 35s 3ms/step - loss: 152928.1094 - accuracy: 0.7491\n",
            "3220/3220 [==============================] - 5s 1ms/step - loss: 4.8997 - accuracy: 0.5275\n",
            "12880/12880 [==============================] - 34s 3ms/step - loss: 157514.5625 - accuracy: 0.6686\n",
            "3220/3220 [==============================] - 6s 2ms/step - loss: 3.8220 - accuracy: 0.8262\n",
            "12880/12880 [==============================] - 37s 3ms/step - loss: 217292.1562 - accuracy: 0.6982\n",
            "3220/3220 [==============================] - 6s 2ms/step - loss: 4.0363 - accuracy: 0.7239\n",
            "12880/12880 [==============================] - 36s 3ms/step - loss: 85812.4297 - accuracy: 0.6933\n",
            "3220/3220 [==============================] - 5s 2ms/step - loss: 3.8007 - accuracy: 0.7388\n",
            "12879/12879 [==============================] - 34s 3ms/step - loss: 67262.8438 - accuracy: 0.7016\n",
            "3220/3220 [==============================] - 6s 2ms/step - loss: 3.7412 - accuracy: 0.7756\n",
            "12880/12880 [==============================] - 34s 3ms/step - loss: 29279.7402 - accuracy: 0.7622\n",
            "3220/3220 [==============================] - 5s 1ms/step - loss: 4.2242 - accuracy: 0.5275\n",
            "12880/12880 [==============================] - 33s 2ms/step - loss: 70056.7500 - accuracy: 0.6858\n",
            "3220/3220 [==============================] - 6s 2ms/step - loss: 3.7915 - accuracy: 0.8262\n",
            "12880/12880 [==============================] - 32s 2ms/step - loss: 67993.8750 - accuracy: 0.7132\n",
            "3220/3220 [==============================] - 5s 1ms/step - loss: 3.8945 - accuracy: 0.7239\n",
            "12880/12880 [==============================] - 34s 3ms/step - loss: 58277.3242 - accuracy: 0.7088\n",
            "3220/3220 [==============================] - 6s 2ms/step - loss: 3.7057 - accuracy: 0.7388\n",
            "12879/12879 [==============================] - 32s 2ms/step - loss: 103420.1641 - accuracy: 0.6970\n",
            "3220/3220 [==============================] - 5s 2ms/step - loss: 4.5754 - accuracy: 0.7756\n",
            "12880/12880 [==============================] - 36s 3ms/step - loss: 101941.3828 - accuracy: 0.7608\n",
            "3220/3220 [==============================] - 6s 2ms/step - loss: 4.7048 - accuracy: 0.5275\n",
            "12880/12880 [==============================] - 34s 3ms/step - loss: 138547.7344 - accuracy: 0.6856\n",
            "3220/3220 [==============================] - 5s 2ms/step - loss: 4.1761 - accuracy: 0.8262\n",
            "12880/12880 [==============================] - 37s 3ms/step - loss: 106093.1094 - accuracy: 0.7105\n",
            "3220/3220 [==============================] - 5s 2ms/step - loss: 4.1286 - accuracy: 0.7239\n",
            "12880/12880 [==============================] - 37s 3ms/step - loss: 84413.8594 - accuracy: 0.7075\n",
            "3220/3220 [==============================] - 5s 2ms/step - loss: 4.2477 - accuracy: 0.7388\n",
            "12879/12879 [==============================] - 42s 3ms/step - loss: 110959.3516 - accuracy: 0.6936\n",
            "3220/3220 [==============================] - 6s 2ms/step - loss: 5.4469 - accuracy: 0.7756\n",
            "12880/12880 [==============================] - 44s 3ms/step - loss: 149428.2500 - accuracy: 0.7528\n",
            "3220/3220 [==============================] - 5s 2ms/step - loss: 5.8447 - accuracy: 0.5275\n",
            "12880/12880 [==============================] - 44s 3ms/step - loss: 107504.4922 - accuracy: 0.6816\n",
            "3220/3220 [==============================] - 6s 2ms/step - loss: 5.6340 - accuracy: 0.8262\n",
            "12880/12880 [==============================] - 42s 3ms/step - loss: 167558.9844 - accuracy: 0.7069\n",
            "3220/3220 [==============================] - 5s 2ms/step - loss: 5.6879 - accuracy: 0.7239\n",
            "12880/12880 [==============================] - 43s 3ms/step - loss: 145535.6562 - accuracy: 0.7037\n",
            "3220/3220 [==============================] - 6s 2ms/step - loss: 5.9325 - accuracy: 0.7388\n",
            "16099/16099 [==============================] - 36s 2ms/step - loss: 88848.5234 - accuracy: 0.6520\n"
          ]
        },
        {
          "output_type": "execute_result",
          "data": {
            "text/plain": [
              "GridSearchCV(cv=5,\n",
              "             estimator=<keras.wrappers.scikit_learn.KerasClassifier object at 0x7ff58890d000>,\n",
              "             param_grid={'dropout': [0.01, 0.1], 'neurons1': [64, 128, 256],\n",
              "                         'neurons2': [64, 128, 256]})"
            ],
            "text/html": [
              "<style>#sk-container-id-1 {color: black;background-color: white;}#sk-container-id-1 pre{padding: 0;}#sk-container-id-1 div.sk-toggleable {background-color: white;}#sk-container-id-1 label.sk-toggleable__label {cursor: pointer;display: block;width: 100%;margin-bottom: 0;padding: 0.3em;box-sizing: border-box;text-align: center;}#sk-container-id-1 label.sk-toggleable__label-arrow:before {content: \"▸\";float: left;margin-right: 0.25em;color: #696969;}#sk-container-id-1 label.sk-toggleable__label-arrow:hover:before {color: black;}#sk-container-id-1 div.sk-estimator:hover label.sk-toggleable__label-arrow:before {color: black;}#sk-container-id-1 div.sk-toggleable__content {max-height: 0;max-width: 0;overflow: hidden;text-align: left;background-color: #f0f8ff;}#sk-container-id-1 div.sk-toggleable__content pre {margin: 0.2em;color: black;border-radius: 0.25em;background-color: #f0f8ff;}#sk-container-id-1 input.sk-toggleable__control:checked~div.sk-toggleable__content {max-height: 200px;max-width: 100%;overflow: auto;}#sk-container-id-1 input.sk-toggleable__control:checked~label.sk-toggleable__label-arrow:before {content: \"▾\";}#sk-container-id-1 div.sk-estimator input.sk-toggleable__control:checked~label.sk-toggleable__label {background-color: #d4ebff;}#sk-container-id-1 div.sk-label input.sk-toggleable__control:checked~label.sk-toggleable__label {background-color: #d4ebff;}#sk-container-id-1 input.sk-hidden--visually {border: 0;clip: rect(1px 1px 1px 1px);clip: rect(1px, 1px, 1px, 1px);height: 1px;margin: -1px;overflow: hidden;padding: 0;position: absolute;width: 1px;}#sk-container-id-1 div.sk-estimator {font-family: monospace;background-color: #f0f8ff;border: 1px dotted black;border-radius: 0.25em;box-sizing: border-box;margin-bottom: 0.5em;}#sk-container-id-1 div.sk-estimator:hover {background-color: #d4ebff;}#sk-container-id-1 div.sk-parallel-item::after {content: \"\";width: 100%;border-bottom: 1px solid gray;flex-grow: 1;}#sk-container-id-1 div.sk-label:hover label.sk-toggleable__label {background-color: #d4ebff;}#sk-container-id-1 div.sk-serial::before {content: \"\";position: absolute;border-left: 1px solid gray;box-sizing: border-box;top: 0;bottom: 0;left: 50%;z-index: 0;}#sk-container-id-1 div.sk-serial {display: flex;flex-direction: column;align-items: center;background-color: white;padding-right: 0.2em;padding-left: 0.2em;position: relative;}#sk-container-id-1 div.sk-item {position: relative;z-index: 1;}#sk-container-id-1 div.sk-parallel {display: flex;align-items: stretch;justify-content: center;background-color: white;position: relative;}#sk-container-id-1 div.sk-item::before, #sk-container-id-1 div.sk-parallel-item::before {content: \"\";position: absolute;border-left: 1px solid gray;box-sizing: border-box;top: 0;bottom: 0;left: 50%;z-index: -1;}#sk-container-id-1 div.sk-parallel-item {display: flex;flex-direction: column;z-index: 1;position: relative;background-color: white;}#sk-container-id-1 div.sk-parallel-item:first-child::after {align-self: flex-end;width: 50%;}#sk-container-id-1 div.sk-parallel-item:last-child::after {align-self: flex-start;width: 50%;}#sk-container-id-1 div.sk-parallel-item:only-child::after {width: 0;}#sk-container-id-1 div.sk-dashed-wrapped {border: 1px dashed gray;margin: 0 0.4em 0.5em 0.4em;box-sizing: border-box;padding-bottom: 0.4em;background-color: white;}#sk-container-id-1 div.sk-label label {font-family: monospace;font-weight: bold;display: inline-block;line-height: 1.2em;}#sk-container-id-1 div.sk-label-container {text-align: center;}#sk-container-id-1 div.sk-container {/* jupyter's `normalize.less` sets `[hidden] { display: none; }` but bootstrap.min.css set `[hidden] { display: none !important; }` so we also need the `!important` here to be able to override the default hidden behavior on the sphinx rendered scikit-learn.org. See: https://github.com/scikit-learn/scikit-learn/issues/21755 */display: inline-block !important;position: relative;}#sk-container-id-1 div.sk-text-repr-fallback {display: none;}</style><div id=\"sk-container-id-1\" class=\"sk-top-container\"><div class=\"sk-text-repr-fallback\"><pre>GridSearchCV(cv=5,\n",
              "             estimator=&lt;keras.wrappers.scikit_learn.KerasClassifier object at 0x7ff58890d000&gt;,\n",
              "             param_grid={&#x27;dropout&#x27;: [0.01, 0.1], &#x27;neurons1&#x27;: [64, 128, 256],\n",
              "                         &#x27;neurons2&#x27;: [64, 128, 256]})</pre><b>In a Jupyter environment, please rerun this cell to show the HTML representation or trust the notebook. <br />On GitHub, the HTML representation is unable to render, please try loading this page with nbviewer.org.</b></div><div class=\"sk-container\" hidden><div class=\"sk-item sk-dashed-wrapped\"><div class=\"sk-label-container\"><div class=\"sk-label sk-toggleable\"><input class=\"sk-toggleable__control sk-hidden--visually\" id=\"sk-estimator-id-1\" type=\"checkbox\" ><label for=\"sk-estimator-id-1\" class=\"sk-toggleable__label sk-toggleable__label-arrow\">GridSearchCV</label><div class=\"sk-toggleable__content\"><pre>GridSearchCV(cv=5,\n",
              "             estimator=&lt;keras.wrappers.scikit_learn.KerasClassifier object at 0x7ff58890d000&gt;,\n",
              "             param_grid={&#x27;dropout&#x27;: [0.01, 0.1], &#x27;neurons1&#x27;: [64, 128, 256],\n",
              "                         &#x27;neurons2&#x27;: [64, 128, 256]})</pre></div></div></div><div class=\"sk-parallel\"><div class=\"sk-parallel-item\"><div class=\"sk-item\"><div class=\"sk-label-container\"><div class=\"sk-label sk-toggleable\"><input class=\"sk-toggleable__control sk-hidden--visually\" id=\"sk-estimator-id-2\" type=\"checkbox\" ><label for=\"sk-estimator-id-2\" class=\"sk-toggleable__label sk-toggleable__label-arrow\">estimator: KerasClassifier</label><div class=\"sk-toggleable__content\"><pre>&lt;keras.wrappers.scikit_learn.KerasClassifier object at 0x7ff58890d000&gt;</pre></div></div></div><div class=\"sk-serial\"><div class=\"sk-item\"><div class=\"sk-estimator sk-toggleable\"><input class=\"sk-toggleable__control sk-hidden--visually\" id=\"sk-estimator-id-3\" type=\"checkbox\" ><label for=\"sk-estimator-id-3\" class=\"sk-toggleable__label sk-toggleable__label-arrow\">KerasClassifier</label><div class=\"sk-toggleable__content\"><pre>&lt;keras.wrappers.scikit_learn.KerasClassifier object at 0x7ff58890d000&gt;</pre></div></div></div></div></div></div></div></div></div></div>"
            ]
          },
          "metadata": {},
          "execution_count": 25
        }
      ],
      "source": [
        "grid_search = GridSearchCV(estimator=ann, param_grid=param_grid, cv=5)\n",
        "grid_search.fit(X_valid, Y_valid)"
      ]
    },
    {
      "cell_type": "code",
      "execution_count": null,
      "metadata": {
        "id": "X3tcxkZrO9gL",
        "colab": {
          "base_uri": "https://localhost:8080/"
        },
        "outputId": "e07c70ca-21e9-4d15-8ab8-00c6464e6a97"
      },
      "outputs": [
        {
          "output_type": "stream",
          "name": "stdout",
          "text": [
            "Best hyperparameters: {'dropout': 0.01, 'neurons1': 64, 'neurons2': 64}\n",
            "Best mean cross-validated score: 0.7184301018714905\n"
          ]
        }
      ],
      "source": [
        "print(\"Best hyperparameters:\", grid_search.best_params_)\n",
        "print(\"Best mean cross-validated score:\", grid_search.best_score_)"
      ]
    },
    {
      "cell_type": "markdown",
      "source": [
        "Building ANN model using best hyperpameter & training"
      ],
      "metadata": {
        "id": "LBguXiRweRwT"
      }
    },
    {
      "cell_type": "code",
      "execution_count": null,
      "metadata": {
        "id": "69OTZlrpQk9-"
      },
      "outputs": [],
      "source": [
        "ann.add(tf.keras.layers.Dense(units=6, input_shape=(6,) ))\n",
        "ann.add(tf.keras.layers.Dense(units=64,activation='relu',kernel_initializer=\"he_uniform\",kernel_regularizer=regularizers.l2(0.01)))\n",
        "ann.add(tf.keras.layers.Dropout(0.01))\n",
        "ann.add(tf.keras.layers.Dense(units=64,activation='relu',kernel_initializer=\"he_uniform\",kernel_regularizer=regularizers.l2(0.01)))\n",
        "ann.add(tf.keras.layers.Dropout(0.01))\n",
        "ann.add(tf.keras.layers.Dense(units=1,activation=\"sigmoid\", kernel_initializer=\"glorot_uniform\",kernel_regularizer=regularizers.l2(0.01)))\n",
        "ann.compile(optimizer='Adam',loss=\"binary_crossentropy\",metrics=['accuracy'])"
      ]
    },
    {
      "cell_type": "code",
      "execution_count": null,
      "metadata": {
        "colab": {
          "base_uri": "https://localhost:8080/"
        },
        "id": "dVbx8Qc9Nuue",
        "outputId": "1c7f53ad-f0ac-420e-f451-9fbca2a72a48"
      },
      "outputs": [
        {
          "output_type": "stream",
          "name": "stdout",
          "text": [
            "Epoch 1/10\n",
            "16099/16099 [==============================] - 40s 2ms/step - loss: 0.6531 - accuracy: 0.6954 - val_loss: 14.3436 - val_accuracy: 0.7184\n",
            "Epoch 2/10\n",
            "16099/16099 [==============================] - 38s 2ms/step - loss: 0.6147 - accuracy: 0.6955 - val_loss: 0.5960 - val_accuracy: 0.7184\n",
            "Epoch 3/10\n",
            "16099/16099 [==============================] - 38s 2ms/step - loss: 0.6146 - accuracy: 0.6955 - val_loss: 0.5958 - val_accuracy: 0.7184\n",
            "Epoch 4/10\n",
            "16099/16099 [==============================] - 39s 2ms/step - loss: 0.6146 - accuracy: 0.6955 - val_loss: 0.5957 - val_accuracy: 0.7184\n",
            "Epoch 5/10\n",
            "16099/16099 [==============================] - 38s 2ms/step - loss: 0.6146 - accuracy: 0.6955 - val_loss: 0.5956 - val_accuracy: 0.7184\n",
            "Epoch 6/10\n",
            "16099/16099 [==============================] - 39s 2ms/step - loss: 0.6146 - accuracy: 0.6955 - val_loss: 0.5959 - val_accuracy: 0.7184\n",
            "Epoch 7/10\n",
            "16099/16099 [==============================] - 38s 2ms/step - loss: 0.6146 - accuracy: 0.6955 - val_loss: 0.5955 - val_accuracy: 0.7184\n",
            "Epoch 8/10\n",
            "16099/16099 [==============================] - 39s 2ms/step - loss: 0.6146 - accuracy: 0.6955 - val_loss: 0.5955 - val_accuracy: 0.7184\n",
            "Epoch 9/10\n",
            "16099/16099 [==============================] - 39s 2ms/step - loss: 0.6146 - accuracy: 0.6955 - val_loss: 0.5958 - val_accuracy: 0.7184\n",
            "Epoch 10/10\n",
            "16099/16099 [==============================] - 39s 2ms/step - loss: 0.6146 - accuracy: 0.6955 - val_loss: 0.5957 - val_accuracy: 0.7184\n"
          ]
        },
        {
          "output_type": "execute_result",
          "data": {
            "text/plain": [
              "<keras.callbacks.History at 0x7f205c307e50>"
            ]
          },
          "metadata": {},
          "execution_count": 19
        }
      ],
      "source": [
        "ann.fit(X_train,Y_train, batch_size=128,epochs = 10,validation_data=(X_valid, Y_valid))"
      ]
    },
    {
      "cell_type": "markdown",
      "source": [
        "Testing with test data and evaluation using metrics\n"
      ],
      "metadata": {
        "id": "66NBuBVYeh8P"
      }
    },
    {
      "cell_type": "code",
      "execution_count": null,
      "metadata": {
        "colab": {
          "base_uri": "https://localhost:8080/"
        },
        "id": "2VeCA0iZCzRH",
        "outputId": "18c38c9f-96f1-4939-a456-ed4c24996865"
      },
      "outputs": [
        {
          "output_type": "stream",
          "name": "stdout",
          "text": [
            "8050/8050 [==============================] - 9s 1ms/step\n"
          ]
        }
      ],
      "source": [
        "y_pred = ann.predict(X_test)\n"
      ]
    },
    {
      "cell_type": "code",
      "source": [
        "ann.summary()"
      ],
      "metadata": {
        "colab": {
          "base_uri": "https://localhost:8080/"
        },
        "id": "VNLFK2Mw-tpJ",
        "outputId": "6f6b72b8-abb8-4b3d-c5a1-d1c1f95aa555"
      },
      "execution_count": null,
      "outputs": [
        {
          "output_type": "stream",
          "name": "stdout",
          "text": [
            "Model: \"sequential_1\"\n",
            "_________________________________________________________________\n",
            " Layer (type)                Output Shape              Param #   \n",
            "=================================================================\n",
            " dense (Dense)               (None, 6)                 42        \n",
            "                                                                 \n",
            " dense_1 (Dense)             (None, 64)                448       \n",
            "                                                                 \n",
            " dropout (Dropout)           (None, 64)                0         \n",
            "                                                                 \n",
            " dense_2 (Dense)             (None, 64)                4160      \n",
            "                                                                 \n",
            " dropout_1 (Dropout)         (None, 64)                0         \n",
            "                                                                 \n",
            " dense_3 (Dense)             (None, 1)                 65        \n",
            "                                                                 \n",
            "=================================================================\n",
            "Total params: 4,715\n",
            "Trainable params: 4,715\n",
            "Non-trainable params: 0\n",
            "_________________________________________________________________\n"
          ]
        }
      ]
    },
    {
      "cell_type": "code",
      "source": [
        "from sklearn.metrics import classification_report\n",
        "            "
      ],
      "metadata": {
        "id": "nBuapbyxnv1c"
      },
      "execution_count": null,
      "outputs": []
    },
    {
      "cell_type": "code",
      "source": [
        "report = classification_report(Y_test,  np.round(y_pred))"
      ],
      "metadata": {
        "colab": {
          "base_uri": "https://localhost:8080/"
        },
        "id": "ymezV_linv9Q",
        "outputId": "e4ed2f7a-ef46-47c3-b538-96547a10dcf5"
      },
      "execution_count": null,
      "outputs": [
        {
          "output_type": "stream",
          "name": "stderr",
          "text": [
            "/usr/local/lib/python3.10/dist-packages/sklearn/metrics/_classification.py:1344: UndefinedMetricWarning: Precision and F-score are ill-defined and being set to 0.0 in labels with no predicted samples. Use `zero_division` parameter to control this behavior.\n",
            "  _warn_prf(average, modifier, msg_start, len(result))\n",
            "/usr/local/lib/python3.10/dist-packages/sklearn/metrics/_classification.py:1344: UndefinedMetricWarning: Precision and F-score are ill-defined and being set to 0.0 in labels with no predicted samples. Use `zero_division` parameter to control this behavior.\n",
            "  _warn_prf(average, modifier, msg_start, len(result))\n",
            "/usr/local/lib/python3.10/dist-packages/sklearn/metrics/_classification.py:1344: UndefinedMetricWarning: Precision and F-score are ill-defined and being set to 0.0 in labels with no predicted samples. Use `zero_division` parameter to control this behavior.\n",
            "  _warn_prf(average, modifier, msg_start, len(result))\n"
          ]
        }
      ]
    },
    {
      "cell_type": "code",
      "source": [
        "print(report)\n",
        "score=ann.evaluate(X_test,Y_test, verbose=0)\n",
        "print(f'Accuracy Score: {score[1]}')\n",
        "print(f'Loss Loss: {score[0]}')"
      ],
      "metadata": {
        "colab": {
          "base_uri": "https://localhost:8080/"
        },
        "id": "Syr2aywhnwA-",
        "outputId": "de48016c-c34d-4b2c-bdbf-cd65bc8f4d19"
      },
      "execution_count": null,
      "outputs": [
        {
          "output_type": "stream",
          "name": "stdout",
          "text": [
            "              precision    recall  f1-score   support\n",
            "\n",
            "           0       0.69      1.00      0.82    178325\n",
            "           1       0.00      0.00      0.00     79255\n",
            "\n",
            "    accuracy                           0.69    257580\n",
            "   macro avg       0.35      0.50      0.41    257580\n",
            "weighted avg       0.48      0.69      0.57    257580\n",
            "\n",
            "Accuracy Score: 0.6923092007637024\n",
            "Loss Loss: 0.6172308921813965\n"
          ]
        }
      ]
    },
    {
      "cell_type": "code",
      "source": [
        "accuracy = np.mean(y_pred == Y_test)\n",
        "precision = classification_report(Y_test, y_pred, output_dict=True)['1']['precision']\n",
        "recall = classification_report(Y_test, y_pred, output_dict=True)['1']['recall']\n",
        "f1_score = classification_report(Y_test, y_pred, output_dict=True)['1']['f1-score']\n",
        "roc_score = roc_auc_score(Y_test, y_pred)"
      ],
      "metadata": {
        "id": "QdaRv076lBBp"
      },
      "execution_count": null,
      "outputs": []
    },
    {
      "cell_type": "code",
      "execution_count": null,
      "metadata": {
        "id": "QeMoaD_GQh9J"
      },
      "outputs": [],
      "source": [
        "score=ann.evaluate(X_test,Y_test, verbose=0)"
      ]
    },
    {
      "cell_type": "code",
      "execution_count": null,
      "metadata": {
        "colab": {
          "base_uri": "https://localhost:8080/"
        },
        "id": "gXsJznRNQiE_",
        "outputId": "6a387785-4b63-4ee3-f1bf-d56fa8d6f538"
      },
      "outputs": [
        {
          "output_type": "stream",
          "name": "stdout",
          "text": [
            "Test loss: 0.617270827293396 / Test accuracy: 0.6923092007637024\n"
          ]
        }
      ],
      "source": [
        "print(f'Test loss: {score[0]} / Test accuracy: {score[1]}')"
      ]
    },
    {
      "cell_type": "code",
      "execution_count": null,
      "metadata": {
        "colab": {
          "base_uri": "https://localhost:8080/"
        },
        "id": "G9zE0AjXDFgu",
        "outputId": "2fed9058-617e-41dc-ee7f-9a7231e66af5"
      },
      "outputs": [
        {
          "output_type": "stream",
          "name": "stdout",
          "text": [
            "Precision: 0.7869828228260457\n"
          ]
        }
      ],
      "source": [
        "precision = precision_score(Y_test, np.round(y_pred),average='weighted',zero_division=1)\n",
        "print('Precision:', precision)"
      ]
    },
    {
      "cell_type": "code",
      "execution_count": null,
      "metadata": {
        "colab": {
          "base_uri": "https://localhost:8080/"
        },
        "id": "1QU_OknzDBF5",
        "outputId": "e0d0cb5c-c326-4416-99d9-2a552163f289"
      },
      "outputs": [
        {
          "output_type": "stream",
          "name": "stdout",
          "text": [
            "Recall: 0.6923091854957683\n"
          ]
        }
      ],
      "source": [
        "recall = recall_score(Y_test, np.round(y_pred),average='weighted')\n",
        "print('Recall:', recall)"
      ]
    },
    {
      "cell_type": "code",
      "execution_count": null,
      "metadata": {
        "colab": {
          "base_uri": "https://localhost:8080/"
        },
        "id": "Aj3M7oaSC12P",
        "outputId": "6d669dc7-b43d-4a78-ce5a-d574463ccbed"
      },
      "outputs": [
        {
          "output_type": "stream",
          "name": "stdout",
          "text": [
            "F1 score: 0.5664355100470647\n"
          ]
        }
      ],
      "source": [
        "f1 = f1_score(Y_test, np.round(y_pred), average='weighted')\n",
        "print('F1 score:', f1)"
      ]
    },
    {
      "cell_type": "code",
      "source": [
        "# Confusion matrix\n",
        "confusion_matrix = metrics.confusion_matrix(Y_test, np.round(y_pred))\n",
        "cm_display = metrics.ConfusionMatrixDisplay(confusion_matrix = confusion_matrix, display_labels = [False, True])\n",
        "cm_display.plot()\n",
        "plt.show()"
      ],
      "metadata": {
        "id": "1h0rYYQOiIzl",
        "colab": {
          "base_uri": "https://localhost:8080/",
          "height": 449
        },
        "outputId": "b74aa58c-91b7-4d88-e76f-760fce262b85"
      },
      "execution_count": null,
      "outputs": [
        {
          "output_type": "display_data",
          "data": {
            "text/plain": [
              "<Figure size 640x480 with 2 Axes>"
            ],
            "image/png": "[encoded data removed]"
          },
          "metadata": {}
        }
      ]
    },
    {
      "cell_type": "code",
      "source": [
        "# Compute ROC curve and AUC\n",
        "# Plot ROC curve\n",
        "fpr, tpr, thresholds = roc_curve(Y_test, y_pred)\n",
        "roc_auc = auc(fpr, tpr)\n",
        "plt.plot(fpr, tpr, label='ROC curve (area = %0.2f)' % roc_auc)\n",
        "plt.plot([0, 1], [0, 1], 'k--')\n",
        "plt.xlim([0.0, 1.0])\n",
        "plt.ylim([0.0, 1.05])\n",
        "plt.xlabel('False Positive Rate')\n",
        "plt.ylabel('True Positive Rate')\n",
        "plt.title('Receiver Operating Characteristic (ROC) Curve')\n",
        "plt.legend(loc=\"lower right\")\n",
        "plt.show()"
      ],
      "metadata": {
        "id": "0f5UkBqPiRAx",
        "colab": {
          "base_uri": "https://localhost:8080/",
          "height": 472
        },
        "outputId": "967c49eb-8038-4711-de5f-099f9dcfe897"
      },
      "execution_count": null,
      "outputs": [
        {
          "output_type": "display_data",
          "data": {
            "text/plain": [
              "<Figure size 640x480 with 1 Axes>"
            ],
            "image/png": "[encoded data removed]"
          },
          "metadata": {}
        }
      ]
    }
  ],
  "metadata": {
    "colab": {
      "provenance": [],
      "machine_shape": "hm"
    },
    "kernelspec": {
      "display_name": "Python 3",
      "name": "python3"
    },
    "language_info": {
      "name": "python"
    },
    "gpuClass": "standard"
  },
  "nbformat": 4,
  "nbformat_minor": 0
}